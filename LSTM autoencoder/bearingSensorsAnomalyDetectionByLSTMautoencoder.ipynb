{
  "nbformat": 4,
  "nbformat_minor": 0,
  "metadata": {
    "colab": {
      "name": "bearingSensors.ipynb",
      "provenance": []
    },
    "kernelspec": {
      "name": "python3",
      "display_name": "Python 3"
    }
  },
  "cells": [
    {
      "cell_type": "code",
      "metadata": {
        "id": "SOPJl-If2Nr-",
        "colab_type": "code",
        "outputId": "a325f145-dfcc-4355-a15c-609353af1d71",
        "colab": {
          "base_uri": "https://localhost:8080/",
          "height": 121
        }
      },
      "source": [
        "! git clone https://github.com/BLarzalere/LSTM-Autoencoder-for-Anomaly-Detection.git"
      ],
      "execution_count": 0,
      "outputs": [
        {
          "output_type": "stream",
          "text": [
            "Cloning into 'LSTM-Autoencoder-for-Anomaly-Detection'...\n",
            "remote: Enumerating objects: 3, done.\u001b[K\n",
            "remote: Counting objects:  33% (1/3)\u001b[K\rremote: Counting objects:  66% (2/3)\u001b[K\rremote: Counting objects: 100% (3/3)\u001b[K\rremote: Counting objects: 100% (3/3), done.\u001b[K\n",
            "remote: Compressing objects: 100% (3/3), done.\u001b[K\n",
            "remote: Total 18 (delta 0), reused 0 (delta 0), pack-reused 15\u001b[K\n",
            "Unpacking objects: 100% (18/18), done.\n"
          ],
          "name": "stdout"
        }
      ]
    },
    {
      "cell_type": "code",
      "metadata": {
        "id": "z-MDd-xy35xg",
        "colab_type": "code",
        "colab": {}
      },
      "source": [
        "import zipfile\n",
        "with zipfile.ZipFile(\"LSTM-Autoencoder-for-Anomaly-Detection/Sensor Data/Bearing_Sensor_Data_pt1.zip\", 'r') as zip_ref:\n",
        "    zip_ref.extractall(\"./sensorData\")"
      ],
      "execution_count": 0,
      "outputs": []
    },
    {
      "cell_type": "code",
      "metadata": {
        "id": "cxndIRJZ3d39",
        "colab_type": "code",
        "outputId": "5a96543e-e018-49c9-f696-e96a111a5358",
        "colab": {
          "base_uri": "https://localhost:8080/",
          "height": 106
        }
      },
      "source": [
        "import os\n",
        "import pandas as pd\n",
        "import numpy as np\n",
        "from sklearn.preprocessing import MinMaxScaler\n",
        "from sklearn.externals import joblib\n",
        "import matplotlib.pyplot as plt\n",
        "%matplotlib inline\n",
        "\n",
        "from numpy.random import seed\n",
        "import tensorflow as tf\n",
        "import seaborn as sns\n",
        "from tensorflow import keras"
      ],
      "execution_count": 0,
      "outputs": [
        {
          "output_type": "stream",
          "text": [
            "/usr/local/lib/python3.6/dist-packages/sklearn/externals/joblib/__init__.py:15: FutureWarning: sklearn.externals.joblib is deprecated in 0.21 and will be removed in 0.23. Please import this functionality directly from joblib, which can be installed with: pip install joblib. If this warning is raised when loading pickled models, you may need to re-serialize those models with scikit-learn 0.21+.\n",
            "  warnings.warn(msg, category=FutureWarning)\n",
            "/usr/local/lib/python3.6/dist-packages/statsmodels/tools/_testing.py:19: FutureWarning: pandas.util.testing is deprecated. Use the functions in the public API at pandas.testing instead.\n",
            "  import pandas.util.testing as tm\n"
          ],
          "name": "stderr"
        }
      ]
    },
    {
      "cell_type": "code",
      "metadata": {
        "id": "xZWEGGzu52OB",
        "colab_type": "code",
        "colab": {}
      },
      "source": [
        "dataDir=\"sensorData\"\n",
        "mergedData=pd.DataFrame()\n",
        "\n",
        "for filename in os.listdir(dataDir):\n",
        "  if filename == \"__MACOSX\":\n",
        "    continue\n",
        "  dataset=pd.read_csv(os.path.join(dataDir,filename),sep=\"\\t\")\n",
        "  dataset_abs_mean=np.array([dataset.abs().mean()])\n",
        "  dataset_abs_mean=pd.DataFrame(dataset_abs_mean)\n",
        "  dataset_abs_mean.index=[filename]\n",
        "  mergedData=mergedData.append(dataset_abs_mean)\n",
        "mergedData.columns=[\"bearing1\",\"bearing2\",\"bearing3\",\"bearing4\"]"
      ],
      "execution_count": 0,
      "outputs": []
    },
    {
      "cell_type": "code",
      "metadata": {
        "id": "5Jc3v4nodXlq",
        "colab_type": "code",
        "colab": {}
      },
      "source": [
        "def splitSeq(dataset,l=10,offset=5):\n",
        "  if l > dataset.shape[0]:\n",
        "    l=dataset.shape[0]\n",
        "  final=list()\n",
        "  for i in range(0,dataset.shape[0],offset):\n",
        "    if i+l > dataset.shape[0]:\n",
        "      break\n",
        "    seq=list(dataset[i:i+l])\n",
        "    final.append(seq)\n",
        "  return np.array(final)"
      ],
      "execution_count": 0,
      "outputs": []
    },
    {
      "cell_type": "code",
      "metadata": {
        "id": "nPzSGvxW-ObK",
        "colab_type": "code",
        "colab": {}
      },
      "source": [
        "train=mergedData[:300]\n",
        "test=mergedData[300:]"
      ],
      "execution_count": 0,
      "outputs": []
    },
    {
      "cell_type": "code",
      "metadata": {
        "id": "WSSdTyEn-f6L",
        "colab_type": "code",
        "colab": {}
      },
      "source": [
        "train=train.reset_index(drop=True)\n",
        "test=test.reset_index(drop=True)"
      ],
      "execution_count": 0,
      "outputs": []
    },
    {
      "cell_type": "code",
      "metadata": {
        "id": "G5cuWscUA0Sr",
        "colab_type": "code",
        "colab": {}
      },
      "source": [
        "train_fft=np.fft.fft(train)\n",
        "test_fft=np.fft.fft(test)"
      ],
      "execution_count": 0,
      "outputs": []
    },
    {
      "cell_type": "code",
      "metadata": {
        "id": "vozyGt6YCini",
        "colab_type": "code",
        "colab": {}
      },
      "source": [
        "scaler=MinMaxScaler()\n",
        "X_train=scaler.fit_transform(train)\n",
        "X_test=scaler.transform(test)"
      ],
      "execution_count": 0,
      "outputs": []
    },
    {
      "cell_type": "code",
      "metadata": {
        "id": "4oXMU24qG599",
        "colab_type": "code",
        "outputId": "f7ce114a-9309-4e5e-82ff-db60e2c5e1c4",
        "colab": {
          "base_uri": "https://localhost:8080/",
          "height": 34
        }
      },
      "source": [
        "X_train.shape"
      ],
      "execution_count": 0,
      "outputs": [
        {
          "output_type": "execute_result",
          "data": {
            "text/plain": [
              "(300, 4)"
            ]
          },
          "metadata": {
            "tags": []
          },
          "execution_count": 60
        }
      ]
    },
    {
      "cell_type": "code",
      "metadata": {
        "id": "YNSroTz4GCzD",
        "colab_type": "code",
        "colab": {}
      },
      "source": [
        "X_train=splitSeq(X_train)\n",
        "X_test=splitSeq(X_test)"
      ],
      "execution_count": 0,
      "outputs": []
    },
    {
      "cell_type": "code",
      "metadata": {
        "id": "cw9bK73DGcwF",
        "colab_type": "code",
        "colab": {}
      },
      "source": [
        "inputs=keras.layers.Input(shape=X_train.shape[1:])\n",
        "L1=keras.layers.LSTM(16,activation=\"relu\",return_sequences=True)(inputs)\n",
        "L2=keras.layers.LSTM(4,activation=\"relu\",return_sequences=False)(L1)\n",
        "L3=keras.layers.RepeatVector(X_train.shape[1])(L2)\n",
        "L4=keras.layers.LSTM(4,activation=\"relu\",return_sequences=True)(L3)\n",
        "L5=keras.layers.LSTM(16,activation=\"relu\",return_sequences=True)(L4)\n",
        "#output=keras.layers.Dense(4)(L5)\n",
        "output=keras.layers.TimeDistributed(keras.layers.Dense(4))(L5)\n",
        "model=keras.models.Model(inputs,output)"
      ],
      "execution_count": 0,
      "outputs": []
    },
    {
      "cell_type": "code",
      "metadata": {
        "id": "0mLAOE_mI2HQ",
        "colab_type": "code",
        "outputId": "a9a70e0a-9915-443c-f2d4-e4a25ab5d5a5",
        "colab": {
          "base_uri": "https://localhost:8080/",
          "height": 401
        }
      },
      "source": [
        "model.summary()\n",
        "model.compile(optimizer=\"adam\",loss=\"mae\")"
      ],
      "execution_count": 0,
      "outputs": [
        {
          "output_type": "stream",
          "text": [
            "Model: \"model\"\n",
            "_________________________________________________________________\n",
            "Layer (type)                 Output Shape              Param #   \n",
            "=================================================================\n",
            "input_2 (InputLayer)         [(None, 10, 4)]           0         \n",
            "_________________________________________________________________\n",
            "lstm_1 (LSTM)                (None, 10, 16)            1344      \n",
            "_________________________________________________________________\n",
            "lstm_2 (LSTM)                (None, 4)                 336       \n",
            "_________________________________________________________________\n",
            "repeat_vector (RepeatVector) (None, 10, 4)             0         \n",
            "_________________________________________________________________\n",
            "lstm_3 (LSTM)                (None, 10, 4)             144       \n",
            "_________________________________________________________________\n",
            "lstm_4 (LSTM)                (None, 10, 16)            1344      \n",
            "_________________________________________________________________\n",
            "time_distributed (TimeDistri (None, 10, 4)             68        \n",
            "=================================================================\n",
            "Total params: 3,236\n",
            "Trainable params: 3,236\n",
            "Non-trainable params: 0\n",
            "_________________________________________________________________\n"
          ],
          "name": "stdout"
        }
      ]
    },
    {
      "cell_type": "code",
      "metadata": {
        "id": "P0uTld-jLx5N",
        "colab_type": "code",
        "outputId": "a969ab01-8213-47ef-8e28-18913ad7c53a",
        "colab": {
          "base_uri": "https://localhost:8080/",
          "height": 1000
        }
      },
      "source": [
        "epochs=100\n",
        "batch_size=10\n",
        "history=model.fit(X_train,X_train,\n",
        "                  epochs=epochs,\n",
        "                  batch_size=batch_size,\n",
        "                  validation_split=0.05,\n",
        "                  verbose=1).history"
      ],
      "execution_count": 0,
      "outputs": [
        {
          "output_type": "stream",
          "text": [
            "Epoch 1/100\n",
            "6/6 [==============================] - 1s 109ms/step - loss: 0.3786 - val_loss: 0.3796\n",
            "Epoch 2/100\n",
            "6/6 [==============================] - 0s 18ms/step - loss: 0.3679 - val_loss: 0.3689\n",
            "Epoch 3/100\n",
            "6/6 [==============================] - 0s 19ms/step - loss: 0.3562 - val_loss: 0.3566\n",
            "Epoch 4/100\n",
            "6/6 [==============================] - 0s 19ms/step - loss: 0.3426 - val_loss: 0.3412\n",
            "Epoch 5/100\n",
            "6/6 [==============================] - 0s 18ms/step - loss: 0.3254 - val_loss: 0.3209\n",
            "Epoch 6/100\n",
            "6/6 [==============================] - 0s 20ms/step - loss: 0.3048 - val_loss: 0.3010\n",
            "Epoch 7/100\n",
            "6/6 [==============================] - 0s 18ms/step - loss: 0.2909 - val_loss: 0.2943\n",
            "Epoch 8/100\n",
            "6/6 [==============================] - 0s 20ms/step - loss: 0.2826 - val_loss: 0.2836\n",
            "Epoch 9/100\n",
            "6/6 [==============================] - 0s 19ms/step - loss: 0.2713 - val_loss: 0.2756\n",
            "Epoch 10/100\n",
            "6/6 [==============================] - 0s 18ms/step - loss: 0.2617 - val_loss: 0.2660\n",
            "Epoch 11/100\n",
            "6/6 [==============================] - 0s 19ms/step - loss: 0.2519 - val_loss: 0.2566\n",
            "Epoch 12/100\n",
            "6/6 [==============================] - 0s 19ms/step - loss: 0.2428 - val_loss: 0.2477\n",
            "Epoch 13/100\n",
            "6/6 [==============================] - 0s 18ms/step - loss: 0.2336 - val_loss: 0.2387\n",
            "Epoch 14/100\n",
            "6/6 [==============================] - 0s 18ms/step - loss: 0.2248 - val_loss: 0.2289\n",
            "Epoch 15/100\n",
            "6/6 [==============================] - 0s 18ms/step - loss: 0.2168 - val_loss: 0.2212\n",
            "Epoch 16/100\n",
            "6/6 [==============================] - 0s 18ms/step - loss: 0.2093 - val_loss: 0.2136\n",
            "Epoch 17/100\n",
            "6/6 [==============================] - 0s 19ms/step - loss: 0.2019 - val_loss: 0.2057\n",
            "Epoch 18/100\n",
            "6/6 [==============================] - 0s 21ms/step - loss: 0.1947 - val_loss: 0.1998\n",
            "Epoch 19/100\n",
            "6/6 [==============================] - 0s 20ms/step - loss: 0.1878 - val_loss: 0.1922\n",
            "Epoch 20/100\n",
            "6/6 [==============================] - 0s 18ms/step - loss: 0.1804 - val_loss: 0.1861\n",
            "Epoch 21/100\n",
            "6/6 [==============================] - 0s 19ms/step - loss: 0.1736 - val_loss: 0.1801\n",
            "Epoch 22/100\n",
            "6/6 [==============================] - 0s 19ms/step - loss: 0.1666 - val_loss: 0.1759\n",
            "Epoch 23/100\n",
            "6/6 [==============================] - 0s 18ms/step - loss: 0.1594 - val_loss: 0.1687\n",
            "Epoch 24/100\n",
            "6/6 [==============================] - 0s 18ms/step - loss: 0.1514 - val_loss: 0.1625\n",
            "Epoch 25/100\n",
            "6/6 [==============================] - 0s 18ms/step - loss: 0.1446 - val_loss: 0.1604\n",
            "Epoch 26/100\n",
            "6/6 [==============================] - 0s 20ms/step - loss: 0.1416 - val_loss: 0.1591\n",
            "Epoch 27/100\n",
            "6/6 [==============================] - 0s 19ms/step - loss: 0.1409 - val_loss: 0.1601\n",
            "Epoch 28/100\n",
            "6/6 [==============================] - 0s 19ms/step - loss: 0.1385 - val_loss: 0.1554\n",
            "Epoch 29/100\n",
            "6/6 [==============================] - 0s 18ms/step - loss: 0.1371 - val_loss: 0.1558\n",
            "Epoch 30/100\n",
            "6/6 [==============================] - 0s 18ms/step - loss: 0.1362 - val_loss: 0.1541\n",
            "Epoch 31/100\n",
            "6/6 [==============================] - 0s 18ms/step - loss: 0.1352 - val_loss: 0.1542\n",
            "Epoch 32/100\n",
            "6/6 [==============================] - 0s 18ms/step - loss: 0.1350 - val_loss: 0.1542\n",
            "Epoch 33/100\n",
            "6/6 [==============================] - 0s 18ms/step - loss: 0.1339 - val_loss: 0.1535\n",
            "Epoch 34/100\n",
            "6/6 [==============================] - 0s 19ms/step - loss: 0.1337 - val_loss: 0.1539\n",
            "Epoch 35/100\n",
            "6/6 [==============================] - 0s 18ms/step - loss: 0.1330 - val_loss: 0.1529\n",
            "Epoch 36/100\n",
            "6/6 [==============================] - 0s 18ms/step - loss: 0.1325 - val_loss: 0.1527\n",
            "Epoch 37/100\n",
            "6/6 [==============================] - 0s 18ms/step - loss: 0.1320 - val_loss: 0.1532\n",
            "Epoch 38/100\n",
            "6/6 [==============================] - 0s 19ms/step - loss: 0.1315 - val_loss: 0.1520\n",
            "Epoch 39/100\n",
            "6/6 [==============================] - 0s 18ms/step - loss: 0.1314 - val_loss: 0.1522\n",
            "Epoch 40/100\n",
            "6/6 [==============================] - 0s 18ms/step - loss: 0.1307 - val_loss: 0.1520\n",
            "Epoch 41/100\n",
            "6/6 [==============================] - 0s 18ms/step - loss: 0.1303 - val_loss: 0.1517\n",
            "Epoch 42/100\n",
            "6/6 [==============================] - 0s 19ms/step - loss: 0.1302 - val_loss: 0.1508\n",
            "Epoch 43/100\n",
            "6/6 [==============================] - 0s 19ms/step - loss: 0.1297 - val_loss: 0.1515\n",
            "Epoch 44/100\n",
            "6/6 [==============================] - 0s 18ms/step - loss: 0.1293 - val_loss: 0.1502\n",
            "Epoch 45/100\n",
            "6/6 [==============================] - 0s 18ms/step - loss: 0.1292 - val_loss: 0.1504\n",
            "Epoch 46/100\n",
            "6/6 [==============================] - 0s 18ms/step - loss: 0.1286 - val_loss: 0.1497\n",
            "Epoch 47/100\n",
            "6/6 [==============================] - 0s 19ms/step - loss: 0.1287 - val_loss: 0.1501\n",
            "Epoch 48/100\n",
            "6/6 [==============================] - 0s 18ms/step - loss: 0.1287 - val_loss: 0.1493\n",
            "Epoch 49/100\n",
            "6/6 [==============================] - 0s 18ms/step - loss: 0.1282 - val_loss: 0.1482\n",
            "Epoch 50/100\n",
            "6/6 [==============================] - 0s 19ms/step - loss: 0.1281 - val_loss: 0.1497\n",
            "Epoch 51/100\n",
            "6/6 [==============================] - 0s 19ms/step - loss: 0.1274 - val_loss: 0.1475\n",
            "Epoch 52/100\n",
            "6/6 [==============================] - 0s 20ms/step - loss: 0.1271 - val_loss: 0.1471\n",
            "Epoch 53/100\n",
            "6/6 [==============================] - 0s 18ms/step - loss: 0.1277 - val_loss: 0.1482\n",
            "Epoch 54/100\n",
            "6/6 [==============================] - 0s 18ms/step - loss: 0.1265 - val_loss: 0.1469\n",
            "Epoch 55/100\n",
            "6/6 [==============================] - 0s 18ms/step - loss: 0.1266 - val_loss: 0.1470\n",
            "Epoch 56/100\n",
            "6/6 [==============================] - 0s 18ms/step - loss: 0.1261 - val_loss: 0.1461\n",
            "Epoch 57/100\n",
            "6/6 [==============================] - 0s 20ms/step - loss: 0.1259 - val_loss: 0.1465\n",
            "Epoch 58/100\n",
            "6/6 [==============================] - 0s 21ms/step - loss: 0.1257 - val_loss: 0.1448\n",
            "Epoch 59/100\n",
            "6/6 [==============================] - 0s 19ms/step - loss: 0.1252 - val_loss: 0.1440\n",
            "Epoch 60/100\n",
            "6/6 [==============================] - 0s 19ms/step - loss: 0.1251 - val_loss: 0.1439\n",
            "Epoch 61/100\n",
            "6/6 [==============================] - 0s 19ms/step - loss: 0.1250 - val_loss: 0.1439\n",
            "Epoch 62/100\n",
            "6/6 [==============================] - 0s 19ms/step - loss: 0.1250 - val_loss: 0.1432\n",
            "Epoch 63/100\n",
            "6/6 [==============================] - 0s 18ms/step - loss: 0.1249 - val_loss: 0.1426\n",
            "Epoch 64/100\n",
            "6/6 [==============================] - 0s 18ms/step - loss: 0.1241 - val_loss: 0.1433\n",
            "Epoch 65/100\n",
            "6/6 [==============================] - 0s 19ms/step - loss: 0.1241 - val_loss: 0.1423\n",
            "Epoch 66/100\n",
            "6/6 [==============================] - 0s 20ms/step - loss: 0.1236 - val_loss: 0.1418\n",
            "Epoch 67/100\n",
            "6/6 [==============================] - 0s 19ms/step - loss: 0.1234 - val_loss: 0.1396\n",
            "Epoch 68/100\n",
            "6/6 [==============================] - 0s 19ms/step - loss: 0.1237 - val_loss: 0.1402\n",
            "Epoch 69/100\n",
            "6/6 [==============================] - 0s 18ms/step - loss: 0.1237 - val_loss: 0.1402\n",
            "Epoch 70/100\n",
            "6/6 [==============================] - 0s 18ms/step - loss: 0.1233 - val_loss: 0.1393\n",
            "Epoch 71/100\n",
            "6/6 [==============================] - 0s 18ms/step - loss: 0.1227 - val_loss: 0.1407\n",
            "Epoch 72/100\n",
            "6/6 [==============================] - 0s 19ms/step - loss: 0.1226 - val_loss: 0.1387\n",
            "Epoch 73/100\n",
            "6/6 [==============================] - 0s 20ms/step - loss: 0.1223 - val_loss: 0.1389\n",
            "Epoch 74/100\n",
            "6/6 [==============================] - 0s 18ms/step - loss: 0.1223 - val_loss: 0.1393\n",
            "Epoch 75/100\n",
            "6/6 [==============================] - 0s 20ms/step - loss: 0.1232 - val_loss: 0.1384\n",
            "Epoch 76/100\n",
            "6/6 [==============================] - 0s 18ms/step - loss: 0.1225 - val_loss: 0.1394\n",
            "Epoch 77/100\n",
            "6/6 [==============================] - 0s 19ms/step - loss: 0.1225 - val_loss: 0.1397\n",
            "Epoch 78/100\n",
            "6/6 [==============================] - 0s 18ms/step - loss: 0.1225 - val_loss: 0.1382\n",
            "Epoch 79/100\n",
            "6/6 [==============================] - 0s 18ms/step - loss: 0.1220 - val_loss: 0.1384\n",
            "Epoch 80/100\n",
            "6/6 [==============================] - 0s 18ms/step - loss: 0.1217 - val_loss: 0.1372\n",
            "Epoch 81/100\n",
            "6/6 [==============================] - 0s 19ms/step - loss: 0.1215 - val_loss: 0.1372\n",
            "Epoch 82/100\n",
            "6/6 [==============================] - 0s 20ms/step - loss: 0.1215 - val_loss: 0.1372\n",
            "Epoch 83/100\n",
            "6/6 [==============================] - 0s 18ms/step - loss: 0.1213 - val_loss: 0.1365\n",
            "Epoch 84/100\n",
            "6/6 [==============================] - 0s 18ms/step - loss: 0.1213 - val_loss: 0.1366\n",
            "Epoch 85/100\n",
            "6/6 [==============================] - 0s 20ms/step - loss: 0.1210 - val_loss: 0.1364\n",
            "Epoch 86/100\n",
            "6/6 [==============================] - 0s 18ms/step - loss: 0.1211 - val_loss: 0.1366\n",
            "Epoch 87/100\n",
            "6/6 [==============================] - 0s 19ms/step - loss: 0.1211 - val_loss: 0.1359\n",
            "Epoch 88/100\n",
            "6/6 [==============================] - 0s 19ms/step - loss: 0.1215 - val_loss: 0.1375\n",
            "Epoch 89/100\n",
            "6/6 [==============================] - 0s 19ms/step - loss: 0.1215 - val_loss: 0.1377\n",
            "Epoch 90/100\n",
            "6/6 [==============================] - 0s 20ms/step - loss: 0.1223 - val_loss: 0.1365\n",
            "Epoch 91/100\n",
            "6/6 [==============================] - 0s 19ms/step - loss: 0.1215 - val_loss: 0.1369\n",
            "Epoch 92/100\n",
            "6/6 [==============================] - 0s 19ms/step - loss: 0.1208 - val_loss: 0.1363\n",
            "Epoch 93/100\n",
            "6/6 [==============================] - 0s 19ms/step - loss: 0.1210 - val_loss: 0.1353\n",
            "Epoch 94/100\n",
            "6/6 [==============================] - 0s 20ms/step - loss: 0.1206 - val_loss: 0.1353\n",
            "Epoch 95/100\n",
            "6/6 [==============================] - 0s 19ms/step - loss: 0.1203 - val_loss: 0.1353\n",
            "Epoch 96/100\n",
            "6/6 [==============================] - 0s 19ms/step - loss: 0.1202 - val_loss: 0.1346\n",
            "Epoch 97/100\n",
            "6/6 [==============================] - 0s 19ms/step - loss: 0.1204 - val_loss: 0.1358\n",
            "Epoch 98/100\n",
            "6/6 [==============================] - 0s 19ms/step - loss: 0.1202 - val_loss: 0.1346\n",
            "Epoch 99/100\n",
            "6/6 [==============================] - 0s 19ms/step - loss: 0.1203 - val_loss: 0.1356\n",
            "Epoch 100/100\n",
            "6/6 [==============================] - 0s 21ms/step - loss: 0.1202 - val_loss: 0.1354\n"
          ],
          "name": "stdout"
        }
      ]
    },
    {
      "cell_type": "code",
      "metadata": {
        "id": "OQGEgvcwWokh",
        "colab_type": "code",
        "outputId": "189b1321-663a-418e-cba3-5b9cc860cf77",
        "colab": {
          "base_uri": "https://localhost:8080/",
          "height": 384
        }
      },
      "source": [
        "X_pred = model.predict(X_train)\n",
        "X_pred = X_pred.reshape(X_pred.shape[0], -1)\n",
        "\n",
        "scored = pd.DataFrame(index=train.index)\n",
        "Xtrain = X_train.reshape(X_train.shape[0], -1)\n",
        "scored['Loss_mae'] = np.mean(np.abs(X_pred-Xtrain), axis = 1)\n",
        "plt.figure(figsize=(16,9), dpi=80)\n",
        "plt.title('Loss Distribution', fontsize=16)\n",
        "sns.distplot(scored['Loss_mae'], bins = 20, kde= True, color = 'blue');\n",
        "plt.xlim([0.0,.5])"
      ],
      "execution_count": 0,
      "outputs": [
        {
          "output_type": "error",
          "ename": "ValueError",
          "evalue": "ignored",
          "traceback": [
            "\u001b[0;31m---------------------------------------------------------------------------\u001b[0m",
            "\u001b[0;31mValueError\u001b[0m                                Traceback (most recent call last)",
            "\u001b[0;32m<ipython-input-82-37497c909ee4>\u001b[0m in \u001b[0;36m<module>\u001b[0;34m()\u001b[0m\n\u001b[1;32m      4\u001b[0m \u001b[0mscored\u001b[0m \u001b[0;34m=\u001b[0m \u001b[0mpd\u001b[0m\u001b[0;34m.\u001b[0m\u001b[0mDataFrame\u001b[0m\u001b[0;34m(\u001b[0m\u001b[0mindex\u001b[0m\u001b[0;34m=\u001b[0m\u001b[0mtrain\u001b[0m\u001b[0;34m.\u001b[0m\u001b[0mindex\u001b[0m\u001b[0;34m)\u001b[0m\u001b[0;34m\u001b[0m\u001b[0;34m\u001b[0m\u001b[0m\n\u001b[1;32m      5\u001b[0m \u001b[0mXtrain\u001b[0m \u001b[0;34m=\u001b[0m \u001b[0mX_train\u001b[0m\u001b[0;34m.\u001b[0m\u001b[0mreshape\u001b[0m\u001b[0;34m(\u001b[0m\u001b[0mX_train\u001b[0m\u001b[0;34m.\u001b[0m\u001b[0mshape\u001b[0m\u001b[0;34m[\u001b[0m\u001b[0;36m0\u001b[0m\u001b[0;34m]\u001b[0m\u001b[0;34m,\u001b[0m \u001b[0;34m-\u001b[0m\u001b[0;36m1\u001b[0m\u001b[0;34m)\u001b[0m\u001b[0;34m\u001b[0m\u001b[0;34m\u001b[0m\u001b[0m\n\u001b[0;32m----> 6\u001b[0;31m \u001b[0mscored\u001b[0m\u001b[0;34m[\u001b[0m\u001b[0;34m'Loss_mae'\u001b[0m\u001b[0;34m]\u001b[0m \u001b[0;34m=\u001b[0m \u001b[0mnp\u001b[0m\u001b[0;34m.\u001b[0m\u001b[0mmean\u001b[0m\u001b[0;34m(\u001b[0m\u001b[0mnp\u001b[0m\u001b[0;34m.\u001b[0m\u001b[0mabs\u001b[0m\u001b[0;34m(\u001b[0m\u001b[0mX_pred\u001b[0m\u001b[0;34m-\u001b[0m\u001b[0mXtrain\u001b[0m\u001b[0;34m)\u001b[0m\u001b[0;34m,\u001b[0m \u001b[0maxis\u001b[0m \u001b[0;34m=\u001b[0m \u001b[0;36m1\u001b[0m\u001b[0;34m)\u001b[0m\u001b[0;34m\u001b[0m\u001b[0;34m\u001b[0m\u001b[0m\n\u001b[0m\u001b[1;32m      7\u001b[0m \u001b[0mplt\u001b[0m\u001b[0;34m.\u001b[0m\u001b[0mfigure\u001b[0m\u001b[0;34m(\u001b[0m\u001b[0mfigsize\u001b[0m\u001b[0;34m=\u001b[0m\u001b[0;34m(\u001b[0m\u001b[0;36m16\u001b[0m\u001b[0;34m,\u001b[0m\u001b[0;36m9\u001b[0m\u001b[0;34m)\u001b[0m\u001b[0;34m,\u001b[0m \u001b[0mdpi\u001b[0m\u001b[0;34m=\u001b[0m\u001b[0;36m80\u001b[0m\u001b[0;34m)\u001b[0m\u001b[0;34m\u001b[0m\u001b[0;34m\u001b[0m\u001b[0m\n\u001b[1;32m      8\u001b[0m \u001b[0mplt\u001b[0m\u001b[0;34m.\u001b[0m\u001b[0mtitle\u001b[0m\u001b[0;34m(\u001b[0m\u001b[0;34m'Loss Distribution'\u001b[0m\u001b[0;34m,\u001b[0m \u001b[0mfontsize\u001b[0m\u001b[0;34m=\u001b[0m\u001b[0;36m16\u001b[0m\u001b[0;34m)\u001b[0m\u001b[0;34m\u001b[0m\u001b[0;34m\u001b[0m\u001b[0m\n",
            "\u001b[0;32m/usr/local/lib/python3.6/dist-packages/pandas/core/frame.py\u001b[0m in \u001b[0;36m__setitem__\u001b[0;34m(self, key, value)\u001b[0m\n\u001b[1;32m   2936\u001b[0m         \u001b[0;32melse\u001b[0m\u001b[0;34m:\u001b[0m\u001b[0;34m\u001b[0m\u001b[0;34m\u001b[0m\u001b[0m\n\u001b[1;32m   2937\u001b[0m             \u001b[0;31m# set column\u001b[0m\u001b[0;34m\u001b[0m\u001b[0;34m\u001b[0m\u001b[0;34m\u001b[0m\u001b[0m\n\u001b[0;32m-> 2938\u001b[0;31m             \u001b[0mself\u001b[0m\u001b[0;34m.\u001b[0m\u001b[0m_set_item\u001b[0m\u001b[0;34m(\u001b[0m\u001b[0mkey\u001b[0m\u001b[0;34m,\u001b[0m \u001b[0mvalue\u001b[0m\u001b[0;34m)\u001b[0m\u001b[0;34m\u001b[0m\u001b[0;34m\u001b[0m\u001b[0m\n\u001b[0m\u001b[1;32m   2939\u001b[0m \u001b[0;34m\u001b[0m\u001b[0m\n\u001b[1;32m   2940\u001b[0m     \u001b[0;32mdef\u001b[0m \u001b[0m_setitem_slice\u001b[0m\u001b[0;34m(\u001b[0m\u001b[0mself\u001b[0m\u001b[0;34m,\u001b[0m \u001b[0mkey\u001b[0m\u001b[0;34m,\u001b[0m \u001b[0mvalue\u001b[0m\u001b[0;34m)\u001b[0m\u001b[0;34m:\u001b[0m\u001b[0;34m\u001b[0m\u001b[0;34m\u001b[0m\u001b[0m\n",
            "\u001b[0;32m/usr/local/lib/python3.6/dist-packages/pandas/core/frame.py\u001b[0m in \u001b[0;36m_set_item\u001b[0;34m(self, key, value)\u001b[0m\n\u001b[1;32m   2998\u001b[0m \u001b[0;34m\u001b[0m\u001b[0m\n\u001b[1;32m   2999\u001b[0m         \u001b[0mself\u001b[0m\u001b[0;34m.\u001b[0m\u001b[0m_ensure_valid_index\u001b[0m\u001b[0;34m(\u001b[0m\u001b[0mvalue\u001b[0m\u001b[0;34m)\u001b[0m\u001b[0;34m\u001b[0m\u001b[0;34m\u001b[0m\u001b[0m\n\u001b[0;32m-> 3000\u001b[0;31m         \u001b[0mvalue\u001b[0m \u001b[0;34m=\u001b[0m \u001b[0mself\u001b[0m\u001b[0;34m.\u001b[0m\u001b[0m_sanitize_column\u001b[0m\u001b[0;34m(\u001b[0m\u001b[0mkey\u001b[0m\u001b[0;34m,\u001b[0m \u001b[0mvalue\u001b[0m\u001b[0;34m)\u001b[0m\u001b[0;34m\u001b[0m\u001b[0;34m\u001b[0m\u001b[0m\n\u001b[0m\u001b[1;32m   3001\u001b[0m         \u001b[0mNDFrame\u001b[0m\u001b[0;34m.\u001b[0m\u001b[0m_set_item\u001b[0m\u001b[0;34m(\u001b[0m\u001b[0mself\u001b[0m\u001b[0;34m,\u001b[0m \u001b[0mkey\u001b[0m\u001b[0;34m,\u001b[0m \u001b[0mvalue\u001b[0m\u001b[0;34m)\u001b[0m\u001b[0;34m\u001b[0m\u001b[0;34m\u001b[0m\u001b[0m\n\u001b[1;32m   3002\u001b[0m \u001b[0;34m\u001b[0m\u001b[0m\n",
            "\u001b[0;32m/usr/local/lib/python3.6/dist-packages/pandas/core/frame.py\u001b[0m in \u001b[0;36m_sanitize_column\u001b[0;34m(self, key, value, broadcast)\u001b[0m\n\u001b[1;32m   3634\u001b[0m \u001b[0;34m\u001b[0m\u001b[0m\n\u001b[1;32m   3635\u001b[0m             \u001b[0;31m# turn me into an ndarray\u001b[0m\u001b[0;34m\u001b[0m\u001b[0;34m\u001b[0m\u001b[0;34m\u001b[0m\u001b[0m\n\u001b[0;32m-> 3636\u001b[0;31m             \u001b[0mvalue\u001b[0m \u001b[0;34m=\u001b[0m \u001b[0msanitize_index\u001b[0m\u001b[0;34m(\u001b[0m\u001b[0mvalue\u001b[0m\u001b[0;34m,\u001b[0m \u001b[0mself\u001b[0m\u001b[0;34m.\u001b[0m\u001b[0mindex\u001b[0m\u001b[0;34m,\u001b[0m \u001b[0mcopy\u001b[0m\u001b[0;34m=\u001b[0m\u001b[0;32mFalse\u001b[0m\u001b[0;34m)\u001b[0m\u001b[0;34m\u001b[0m\u001b[0;34m\u001b[0m\u001b[0m\n\u001b[0m\u001b[1;32m   3637\u001b[0m             \u001b[0;32mif\u001b[0m \u001b[0;32mnot\u001b[0m \u001b[0misinstance\u001b[0m\u001b[0;34m(\u001b[0m\u001b[0mvalue\u001b[0m\u001b[0;34m,\u001b[0m \u001b[0;34m(\u001b[0m\u001b[0mnp\u001b[0m\u001b[0;34m.\u001b[0m\u001b[0mndarray\u001b[0m\u001b[0;34m,\u001b[0m \u001b[0mIndex\u001b[0m\u001b[0;34m)\u001b[0m\u001b[0;34m)\u001b[0m\u001b[0;34m:\u001b[0m\u001b[0;34m\u001b[0m\u001b[0;34m\u001b[0m\u001b[0m\n\u001b[1;32m   3638\u001b[0m                 \u001b[0;32mif\u001b[0m \u001b[0misinstance\u001b[0m\u001b[0;34m(\u001b[0m\u001b[0mvalue\u001b[0m\u001b[0;34m,\u001b[0m \u001b[0mlist\u001b[0m\u001b[0;34m)\u001b[0m \u001b[0;32mand\u001b[0m \u001b[0mlen\u001b[0m\u001b[0;34m(\u001b[0m\u001b[0mvalue\u001b[0m\u001b[0;34m)\u001b[0m \u001b[0;34m>\u001b[0m \u001b[0;36m0\u001b[0m\u001b[0;34m:\u001b[0m\u001b[0;34m\u001b[0m\u001b[0;34m\u001b[0m\u001b[0m\n",
            "\u001b[0;32m/usr/local/lib/python3.6/dist-packages/pandas/core/internals/construction.py\u001b[0m in \u001b[0;36msanitize_index\u001b[0;34m(data, index, copy)\u001b[0m\n\u001b[1;32m    609\u001b[0m \u001b[0;34m\u001b[0m\u001b[0m\n\u001b[1;32m    610\u001b[0m     \u001b[0;32mif\u001b[0m \u001b[0mlen\u001b[0m\u001b[0;34m(\u001b[0m\u001b[0mdata\u001b[0m\u001b[0;34m)\u001b[0m \u001b[0;34m!=\u001b[0m \u001b[0mlen\u001b[0m\u001b[0;34m(\u001b[0m\u001b[0mindex\u001b[0m\u001b[0;34m)\u001b[0m\u001b[0;34m:\u001b[0m\u001b[0;34m\u001b[0m\u001b[0;34m\u001b[0m\u001b[0m\n\u001b[0;32m--> 611\u001b[0;31m         \u001b[0;32mraise\u001b[0m \u001b[0mValueError\u001b[0m\u001b[0;34m(\u001b[0m\u001b[0;34m\"Length of values does not match length of index\"\u001b[0m\u001b[0;34m)\u001b[0m\u001b[0;34m\u001b[0m\u001b[0;34m\u001b[0m\u001b[0m\n\u001b[0m\u001b[1;32m    612\u001b[0m \u001b[0;34m\u001b[0m\u001b[0m\n\u001b[1;32m    613\u001b[0m     \u001b[0;32mif\u001b[0m \u001b[0misinstance\u001b[0m\u001b[0;34m(\u001b[0m\u001b[0mdata\u001b[0m\u001b[0;34m,\u001b[0m \u001b[0mABCIndexClass\u001b[0m\u001b[0;34m)\u001b[0m \u001b[0;32mand\u001b[0m \u001b[0;32mnot\u001b[0m \u001b[0mcopy\u001b[0m\u001b[0;34m:\u001b[0m\u001b[0;34m\u001b[0m\u001b[0;34m\u001b[0m\u001b[0m\n",
            "\u001b[0;31mValueError\u001b[0m: Length of values does not match length of index"
          ]
        }
      ]
    },
    {
      "cell_type": "code",
      "metadata": {
        "id": "LNnQitKskkGN",
        "colab_type": "code",
        "outputId": "c468d33b-ba06-4e0c-927d-9d78c180c20e",
        "colab": {
          "base_uri": "https://localhost:8080/",
          "height": 34
        }
      },
      "source": [
        "a=np.array([[[155,  33, 129],\n",
        "        [161, 218,   6]],\n",
        "\n",
        "       [[215, 142, 235],\n",
        "        [143, 249, 164]],\n",
        "\n",
        "       [[221,  71, 229],\n",
        "        [ 56,  91, 120]],\n",
        "\n",
        "       [[236,   4, 177],\n",
        "        [171, 105,  40]]])\n",
        "a.shape"
      ],
      "execution_count": 0,
      "outputs": [
        {
          "output_type": "execute_result",
          "data": {
            "text/plain": [
              "(4, 2, 3)"
            ]
          },
          "metadata": {
            "tags": []
          },
          "execution_count": 81
        }
      ]
    },
    {
      "cell_type": "code",
      "metadata": {
        "id": "_Hxy92dXPEv9",
        "colab_type": "code",
        "colab": {}
      },
      "source": [
        "X_test_pred=model.predict(X_test)"
      ],
      "execution_count": 0,
      "outputs": []
    },
    {
      "cell_type": "code",
      "metadata": {
        "id": "0ZtRx2kRO80O",
        "colab_type": "code",
        "colab": {}
      },
      "source": [
        "X_test_pred=np.array(X_test_pred)\n",
        "X_test_pred=X_test_pred.reshape(265,4)"
      ],
      "execution_count": 0,
      "outputs": []
    },
    {
      "cell_type": "code",
      "metadata": {
        "id": "-KSB4UMJU3QT",
        "colab_type": "code",
        "colab": {}
      },
      "source": [
        "X_test=X_test.reshape(265,4)"
      ],
      "execution_count": 0,
      "outputs": []
    },
    {
      "cell_type": "code",
      "metadata": {
        "id": "L0uAjuGvVKzu",
        "colab_type": "code",
        "outputId": "62228ab0-3fbc-4109-c0ce-83ee6fc8dad8",
        "colab": {
          "base_uri": "https://localhost:8080/",
          "height": 196
        }
      },
      "source": [
        "scored=pd.DataFrame(index=test.index)\n",
        "scored[\"loss\"]=np.mean(np.abs(X_test-X_test_pred),axis=1)\n",
        "scored['Threshold'] = 0.275\n",
        "scored['Anomaly'] = scored['loss'] > scored['Threshold']\n",
        "scored.head()"
      ],
      "execution_count": 0,
      "outputs": [
        {
          "output_type": "execute_result",
          "data": {
            "text/html": [
              "<div>\n",
              "<style scoped>\n",
              "    .dataframe tbody tr th:only-of-type {\n",
              "        vertical-align: middle;\n",
              "    }\n",
              "\n",
              "    .dataframe tbody tr th {\n",
              "        vertical-align: top;\n",
              "    }\n",
              "\n",
              "    .dataframe thead th {\n",
              "        text-align: right;\n",
              "    }\n",
              "</style>\n",
              "<table border=\"1\" class=\"dataframe\">\n",
              "  <thead>\n",
              "    <tr style=\"text-align: right;\">\n",
              "      <th></th>\n",
              "      <th>loss</th>\n",
              "      <th>Threshold</th>\n",
              "      <th>Anomaly</th>\n",
              "    </tr>\n",
              "  </thead>\n",
              "  <tbody>\n",
              "    <tr>\n",
              "      <th>0</th>\n",
              "      <td>0.022525</td>\n",
              "      <td>0.275</td>\n",
              "      <td>False</td>\n",
              "    </tr>\n",
              "    <tr>\n",
              "      <th>1</th>\n",
              "      <td>0.049887</td>\n",
              "      <td>0.275</td>\n",
              "      <td>False</td>\n",
              "    </tr>\n",
              "    <tr>\n",
              "      <th>2</th>\n",
              "      <td>0.048433</td>\n",
              "      <td>0.275</td>\n",
              "      <td>False</td>\n",
              "    </tr>\n",
              "    <tr>\n",
              "      <th>3</th>\n",
              "      <td>0.035259</td>\n",
              "      <td>0.275</td>\n",
              "      <td>False</td>\n",
              "    </tr>\n",
              "    <tr>\n",
              "      <th>4</th>\n",
              "      <td>0.101302</td>\n",
              "      <td>0.275</td>\n",
              "      <td>False</td>\n",
              "    </tr>\n",
              "  </tbody>\n",
              "</table>\n",
              "</div>"
            ],
            "text/plain": [
              "       loss  Threshold  Anomaly\n",
              "0  0.022525      0.275    False\n",
              "1  0.049887      0.275    False\n",
              "2  0.048433      0.275    False\n",
              "3  0.035259      0.275    False\n",
              "4  0.101302      0.275    False"
            ]
          },
          "metadata": {
            "tags": []
          },
          "execution_count": 135
        }
      ]
    },
    {
      "cell_type": "code",
      "metadata": {
        "id": "AF4KmZaQVf2w",
        "colab_type": "code",
        "outputId": "ccdc65b1-785a-4b6b-f175-29269e18b478",
        "colab": {
          "base_uri": "https://localhost:8080/",
          "height": 282
        }
      },
      "source": [
        "scored.plot(y=[\"loss\",\"Threshold\"])"
      ],
      "execution_count": 0,
      "outputs": [
        {
          "output_type": "execute_result",
          "data": {
            "text/plain": [
              "<matplotlib.axes._subplots.AxesSubplot at 0x7fa9f7af8780>"
            ]
          },
          "metadata": {
            "tags": []
          },
          "execution_count": 136
        },
        {
          "output_type": "display_data",
          "data": {
            "image/png": "[encoded data removed]",
            "text/plain": [
              "<Figure size 432x288 with 1 Axes>"
            ]
          },
          "metadata": {
            "tags": [],
            "needs_background": "light"
          }
        }
      ]
    },
    {
      "cell_type": "code",
      "metadata": {
        "id": "LIR9X_zOVhRx",
        "colab_type": "code",
        "colab": {}
      },
      "source": [
        ""
      ],
      "execution_count": 0,
      "outputs": []
    }
  ]
}